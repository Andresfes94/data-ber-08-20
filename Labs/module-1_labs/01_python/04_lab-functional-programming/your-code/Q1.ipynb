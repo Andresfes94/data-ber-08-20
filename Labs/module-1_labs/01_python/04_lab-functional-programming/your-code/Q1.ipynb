{
 "cells": [
  {
   "cell_type": "code",
   "execution_count": null,
   "metadata": {},
   "outputs": [],
   "source": []
  },
  {
   "cell_type": "code",
   "execution_count": 1,
   "metadata": {},
   "outputs": [],
   "source": [
    "import os\n",
    "#this is to get the path to the documents that are in another folder, so my function can read it \n",
    "\n",
    "os.chdir(r'C:\\Users\\El Matematico\\Documents\\GitHub\\data-ber-08-20\\Labs\\module-1_labs\\01_python\\03_lab-string-operations\\your-code')\n",
    "file = open('doc1.txt')\n",
    "file2 = open('doc2.txt')\n",
    "file3= open('doc3.txt')"
   ]
  },
  {
   "cell_type": "markdown",
   "metadata": {},
   "source": [
    "In the cell below, create a Python function that wraps your previous solution for the Bag of Words lab.\n",
    "\n",
    "Requirements:\n",
    "\n",
    "1. Your function should accept the following parameters:\n",
    "    * `docs` [REQUIRED] - array of document paths.\n",
    "    * `stop_words` [OPTIONAL] - array of stop words. The default value is an empty array.\n",
    "\n",
    "1. Your function should return a Python object that contains the following:\n",
    "    * `bag_of_words` - array of strings of normalized unique words in the corpus.\n",
    "    * `term_freq` - array of the term-frequency vectors."
   ]
  },
  {
   "cell_type": "code",
   "execution_count": 10,
   "metadata": {},
   "outputs": [],
   "source": [
    "# Import required libraries\n",
    "\n",
    "\n",
    "# Define function\n",
    "def get_bow_from_docs(docs, stop_words=[]):\n",
    "    \n",
    "    # In the function, first define the variables you will use such as `corpus`, `bag_of_words`, and `term_freq`.\n",
    "    \n",
    "    bag_of_words = []\n",
    "    corpus = []\n",
    "    term_freq = []\n",
    "\n",
    "\n",
    "    \"\"\"\n",
    "    Loop `docs` and read the content of each doc into a string in `corpus`.\n",
    "    Remember to convert the doc content to lowercases and remove punctuation.\n",
    "    \"\"\"\n",
    "    for doc in docs:\n",
    "        corpus.append(open(doc, \"r\").read())\n",
    "        for item in corpus:\n",
    "            item_1=str(item.lower()).replace(\".\",\"\")\n",
    "            y=corpus.index(item)\n",
    "            corpus[y]=item_1\n",
    "    \n",
    "    \n",
    "    \"\"\"\n",
    "    Loop `corpus`. Append the terms in each doc into the `bag_of_words` array. The terms in `bag_of_words` \n",
    "    should be unique which means before adding each term you need to check if it's already added to the array.\n",
    "    In addition, check if each term is in the `stop_words` array. Only append the term to `bag_of_words`\n",
    "    if it is not a stop word.\n",
    "    \"\"\"\n",
    "    for item in corpus:\n",
    "        y=item.split()\n",
    "        for word in y:\n",
    "            if word not in bag_of_words:\n",
    "                if word not in stop_words:\n",
    "                    bag_of_words.append(word)\n",
    "    \n",
    "    \n",
    "    \n",
    "    \"\"\"\n",
    "    Loop `corpus` again. For each doc string, count the number of occurrences of each term in `bag_of_words`. \n",
    "    Create an array for each doc's term frequency and append it to `term_freq`.\n",
    "    \"\"\"\n",
    "    for string in corpus:\n",
    "        word_freq=[]\n",
    "        string=string.split()\n",
    "        for word in bag_of_words:\n",
    "            if word not in string:\n",
    "                word_freq.append(0)\n",
    "\n",
    "            else:\n",
    "                word_freq.append(1)\n",
    "        term_freq.append(word_freq)\n",
    "\n",
    "    \n",
    "    \n",
    "    # Now return your output as an object\n",
    "    return {\n",
    "        \"bag_of_words\": bag_of_words,\n",
    "        \"term_freq\": term_freq\n",
    "    }\n",
    "    "
   ]
  },
  {
   "cell_type": "markdown",
   "metadata": {},
   "source": [
    "Test your function without stop words. You should see the output like below:\n",
    "\n",
    "```{'bag_of_words': ['ironhack', 'is', 'cool', 'i', 'love', 'am', 'a', 'student', 'at'], 'term_freq': [[1, 1, 1, 0, 0, 0, 0, 0, 0], [1, 0, 0, 1, 1, 0, 0, 0, 0], [1, 0, 0, 1, 0, 1, 1, 1, 1]]}```"
   ]
  },
  {
   "cell_type": "code",
   "execution_count": 11,
   "metadata": {},
   "outputs": [
    {
     "name": "stdout",
     "output_type": "stream",
     "text": [
      "{'bag_of_words': ['ironhack', 'is', 'cool', 'i', 'love', 'am', 'a', 'student', 'at'], 'term_freq': [[1, 1, 1, 0, 0, 0, 0, 0, 0], [1, 0, 0, 1, 1, 0, 0, 0, 0], [1, 0, 0, 1, 0, 1, 1, 1, 1]]}\n"
     ]
    }
   ],
   "source": [
    "# Define doc paths array\n",
    "docs = ['doc1.txt', 'doc2.txt', 'doc3.txt']\n",
    "# Obtain BoW from your function\n",
    "bow = get_bow_from_docs(docs)\n",
    "\n",
    "# Print BoW\n",
    "print(bow)"
   ]
  },
  {
   "cell_type": "markdown",
   "metadata": {},
   "source": [
    "If your attempt above is successful, nice work done!\n",
    "\n",
    "Now test your function again with the stop words. In the previous lab we defined the stop words in a large array. In this lab, we'll import the stop words from Scikit-Learn."
   ]
  },
  {
   "cell_type": "code",
   "execution_count": 9,
   "metadata": {
    "scrolled": true
   },
   "outputs": [
    {
     "name": "stdout",
     "output_type": "stream",
     "text": [
      "frozenset({'anywhere', 'is', 'namely', 're', 'de', 'your', 'also', 'another', 'any', 'whereby', 'into', 'towards', 'thereupon', 'whenever', 'whence', 'when', 'latterly', 'nowhere', 'thus', 'whereupon', 'we', 'much', 'and', 'hasnt', 'few', 'twenty', 'up', 'bottom', 'very', 'that', 'during', 'wherever', 'below', 'herself', 'seeming', 'above', 'being', 'most', 'than', 'other', 'out', 'describe', 'eg', 'had', 'along', 'first', 'onto', 'further', 'con', 'down', 'nobody', 'never', 'yourself', 'a', 'enough', 'after', 'seem', 'fifty', 'their', 'call', 'nine', 'herein', 'every', 'not', 'almost', 'formerly', 'thin', 'sixty', 'hers', 'ie', 'whereafter', 'go', 'otherwise', 'was', 'back', 'give', 'keep', 'amoungst', 'move', 'become', 'across', 'even', 'besides', 'which', 'others', 'noone', 'whole', 'at', 'ours', 'around', 'them', 'via', 'whoever', 'please', 'none', 'ten', 'forty', 'whom', 'among', 'do', 'with', 'each', 'be', 'whether', 'mill', 'behind', 'fill', 'nor', 'front', 'inc', 'if', 'per', 'everywhere', 'ltd', 'what', 'interest', 'although', 'three', 'cannot', 'between', 'beside', 'own', 'will', 'everyone', 'though', 'serious', 'many', 'am', 'are', 'find', 'without', 'should', 'until', 'bill', 'thereby', 'eleven', 'someone', 'my', 'i', 'may', 'over', 'hereafter', 'nevertheless', 'cry', 'name', 'full', 'therefore', 'always', 'ever', 'one', 'least', 'were', 'her', 'mostly', 'put', 'perhaps', 'except', 'four', 'already', 'etc', 'no', 'yourselves', 'some', 'before', 'but', 'nothing', 'five', 'thick', 'throughout', 'twelve', 'there', 'or', 'toward', 'anyhow', 'themselves', 'hereby', 'they', 'both', 'our', 'beyond', 'now', 'him', 'becomes', 'me', 'top', 'together', 'eight', 'then', 'ourselves', 'fire', 'anything', 'see', 'by', 'becoming', 'rather', 'itself', 'show', 'either', 'system', 'off', 'hundred', 'somewhere', 'sometime', 'against', 'an', 'you', 'take', 'so', 'un', 'indeed', 'everything', 'seems', 'former', 'of', 'thru', 'empty', 'last', 'have', 'else', 'it', 'anyone', 'where', 'about', 'from', 'became', 'this', 'could', 'on', 'its', 'his', 'well', 'yours', 'anyway', 'whatever', 'because', 'due', 'made', 'six', 'side', 'himself', 'yet', 'only', 'part', 'might', 'in', 'often', 'she', 'moreover', 'thence', 'for', 'who', 'why', 'amount', 'sometimes', 'hereupon', 'through', 'whose', 'been', 'however', 'mine', 'meanwhile', 'less', 'whither', 'wherein', 'all', 'again', 'these', 'couldnt', 'while', 'would', 'can', 'as', 'too', 'such', 'amongst', 'next', 'get', 'third', 'upon', 'seemed', 'sincere', 'us', 'cant', 'myself', 'he', 'hence', 'beforehand', 'thereafter', 'co', 'to', 'same', 'somehow', 'under', 'afterwards', 'whereas', 'something', 'neither', 'within', 'how', 'therein', 'here', 'several', 'must', 'still', 'since', 'detail', 'fifteen', 'two', 'latter', 'found', 'once', 'those', 'has', 'done', 'alone', 'more', 'elsewhere', 'the'})\n"
     ]
    }
   ],
   "source": [
    "import sklearn\n",
    "from sklearn.feature_extraction import stop_words\n",
    "print(stop_words.ENGLISH_STOP_WORDS)"
   ]
  },
  {
   "cell_type": "markdown",
   "metadata": {},
   "source": [
    "You should have seen a large list of words that looks like:\n",
    "\n",
    "```frozenset({'across', 'mine', 'cannot', ...})```\n",
    "\n",
    "`frozenset` is a type of Python object that is immutable. In this lab you can use it just like an array without conversion."
   ]
  },
  {
   "cell_type": "markdown",
   "metadata": {},
   "source": [
    "Next, test your function with supplying `stop_words.ENGLISH_STOP_WORDS` as the second parameter."
   ]
  },
  {
   "cell_type": "code",
   "execution_count": 12,
   "metadata": {},
   "outputs": [
    {
     "name": "stdout",
     "output_type": "stream",
     "text": [
      "{'bag_of_words': ['ironhack', 'cool', 'love', 'student'], 'term_freq': [[1, 1, 0, 0], [1, 0, 1, 0], [1, 0, 0, 1]]}\n"
     ]
    }
   ],
   "source": [
    "bow = get_bow_from_docs(docs, stop_words.ENGLISH_STOP_WORDS)\n",
    "\n",
    "print(bow)"
   ]
  },
  {
   "cell_type": "markdown",
   "metadata": {},
   "source": [
    "You should have seen:\n",
    "\n",
    "```{'bag_of_words': ['ironhack', 'cool', 'love', 'student'], 'term_freq': [[1, 1, 0, 0], [1, 0, 1, 0], [1, 0, 0, 1]]}```"
   ]
  },
  {
   "cell_type": "code",
   "execution_count": null,
   "metadata": {},
   "outputs": [],
   "source": []
  },
  {
   "cell_type": "code",
   "execution_count": null,
   "metadata": {},
   "outputs": [],
   "source": []
  }
 ],
 "metadata": {
  "kernelspec": {
   "display_name": "Python 3",
   "language": "python",
   "name": "python3"
  },
  "language_info": {
   "codemirror_mode": {
    "name": "ipython",
    "version": 3
   },
   "file_extension": ".py",
   "mimetype": "text/x-python",
   "name": "python",
   "nbconvert_exporter": "python",
   "pygments_lexer": "ipython3",
   "version": "3.8.5"
  }
 },
 "nbformat": 4,
 "nbformat_minor": 4
}
